{
 "cells": [
  {
   "cell_type": "code",
   "execution_count": 1,
   "metadata": {},
   "outputs": [],
   "source": [
    "import os\n",
    "import pandas as pd\n",
    "from konlpy.tag import Mecab\n",
    "import numpy as np\n",
    "from collections import Counter\n",
    "import tensorflow as tf\n",
    "from keras.callbacks import EarlyStopping\n",
    "\n",
    "local_path = os.getcwd()"
   ]
  },
  {
   "cell_type": "code",
   "execution_count": 2,
   "metadata": {},
   "outputs": [
    {
     "data": {
      "text/html": [
       "<div>\n",
       "<style scoped>\n",
       "    .dataframe tbody tr th:only-of-type {\n",
       "        vertical-align: middle;\n",
       "    }\n",
       "\n",
       "    .dataframe tbody tr th {\n",
       "        vertical-align: top;\n",
       "    }\n",
       "\n",
       "    .dataframe thead th {\n",
       "        text-align: right;\n",
       "    }\n",
       "</style>\n",
       "<table border=\"1\" class=\"dataframe\">\n",
       "  <thead>\n",
       "    <tr style=\"text-align: right;\">\n",
       "      <th></th>\n",
       "      <th>id</th>\n",
       "      <th>document</th>\n",
       "      <th>label</th>\n",
       "    </tr>\n",
       "  </thead>\n",
       "  <tbody>\n",
       "    <tr>\n",
       "      <th>0</th>\n",
       "      <td>9976970</td>\n",
       "      <td>아 더빙.. 진짜 짜증나네요 목소리</td>\n",
       "      <td>0</td>\n",
       "    </tr>\n",
       "    <tr>\n",
       "      <th>1</th>\n",
       "      <td>3819312</td>\n",
       "      <td>흠...포스터보고 초딩영화줄....오버연기조차 가볍지 않구나</td>\n",
       "      <td>1</td>\n",
       "    </tr>\n",
       "    <tr>\n",
       "      <th>2</th>\n",
       "      <td>10265843</td>\n",
       "      <td>너무재밓었다그래서보는것을추천한다</td>\n",
       "      <td>0</td>\n",
       "    </tr>\n",
       "    <tr>\n",
       "      <th>3</th>\n",
       "      <td>9045019</td>\n",
       "      <td>교도소 이야기구먼 ..솔직히 재미는 없다..평점 조정</td>\n",
       "      <td>0</td>\n",
       "    </tr>\n",
       "    <tr>\n",
       "      <th>4</th>\n",
       "      <td>6483659</td>\n",
       "      <td>사이몬페그의 익살스런 연기가 돋보였던 영화!스파이더맨에서 늙어보이기만 했던 커스틴 ...</td>\n",
       "      <td>1</td>\n",
       "    </tr>\n",
       "  </tbody>\n",
       "</table>\n",
       "</div>"
      ],
      "text/plain": [
       "         id                                           document  label\n",
       "0   9976970                                아 더빙.. 진짜 짜증나네요 목소리      0\n",
       "1   3819312                  흠...포스터보고 초딩영화줄....오버연기조차 가볍지 않구나      1\n",
       "2  10265843                                  너무재밓었다그래서보는것을추천한다      0\n",
       "3   9045019                      교도소 이야기구먼 ..솔직히 재미는 없다..평점 조정      0\n",
       "4   6483659  사이몬페그의 익살스런 연기가 돋보였던 영화!스파이더맨에서 늙어보이기만 했던 커스틴 ...      1"
      ]
     },
     "execution_count": 2,
     "metadata": {},
     "output_type": "execute_result"
    }
   ],
   "source": [
    "train_data = pd.read_table(os.path.join(local_path, 'data', 'ratings_train.txt'))\n",
    "test_data = pd.read_table(os.path.join(local_path, 'data', 'ratings_test.txt'))\n",
    "train_data.head()"
   ]
  },
  {
   "cell_type": "code",
   "execution_count": 3,
   "metadata": {},
   "outputs": [],
   "source": [
    "#https://wikidocs.net/44249\n",
    "tokenizer = Mecab()\n",
    "stopwords = ['의','가','이','은','들','는','좀','잘','걍','과','도','를','으로','자','에','와','한','하다']\n",
    "\n",
    "    \n",
    "def load_data(train_data, test_data, num_words=10000, split=0.25):\n",
    "    data_tokend = []\n",
    "    print(\"train_len = {}, test_len = {}\".format(len(train_data), len(test_data)))\n",
    "    \n",
    "    data = pd.concat([train_data, test_data])\n",
    "    print(\"data_len = {}\".format(len(data)))\n",
    "    \n",
    "    data.drop_duplicates(subset=['document'], inplace=True)#중복제거\n",
    "    print(\"Deduplicated data_len = {}\".format(len(data)))\n",
    "    \n",
    "    data['document'] = data['document'].str.replace(\"[^ㄱ-ㅎㅏ-ㅣ가-힣 ]\",\"\", regex=True)    \n",
    "    data['document'] = data['document'].str.replace('^ +', \"\", regex=True) # white space 데이터를 empty value로 변경\n",
    "    data['document'].replace('', np.nan, inplace=True, regex=True)\n",
    "    data = data.dropna(how='any')#Null 값을 가진 샘플을 제거\n",
    "    print(\"Null-removed data_len = {}\".format(len(data)))\n",
    "\n",
    "    for sentence in data['document']:\n",
    "        temp_data = tokenizer.morphs(sentence) # 토큰화\n",
    "        temp_data = [word for word in temp_data if not word in stopwords] # 불용어 제거\n",
    "        data_tokend.append(temp_data)\n",
    "    X_train, X_test = data_tokend[:-int(len(data_tokend)*split)], data_tokend[-int(len(data_tokend)*split):]\n",
    "\n",
    "    words = np.concatenate(X_train).tolist()\n",
    "    counter = Counter(words)\n",
    "    counter = counter.most_common(10000-4)\n",
    "    vocab = ['', '', '', ''] + [key for key, _ in counter]\n",
    "    word_to_index = {word:index for index, word in enumerate(vocab)}\n",
    "    def wordlist_to_indexlist(wordlist):\n",
    "        return [word_to_index[word] if word in word_to_index else word_to_index[''] for word in wordlist]\n",
    "    \n",
    "    X_train = list(map(wordlist_to_indexlist, X_train))\n",
    "    X_test = list(map(wordlist_to_indexlist, X_test))\n",
    "    return X_train, np.array(list(data['label'][:-int(len(data_tokend)*split)])), X_test, np.array(list(data['label'][-int(len(data_tokend)*split):])), word_to_index\n",
    "\n",
    "def get_encoded_sentence(sentence, word_to_index):\n",
    "    return [word_to_index['<BOS>']]+[word_to_index[word] if word in word_to_index else word_to_index['<UNK>'] for word in sentence.split()]\n",
    "\n",
    "# 여러 개의 문장 리스트를 한꺼번에 단어 인덱스 리스트 벡터로 encode해 주는 함수입니다. \n",
    "def get_encoded_sentences(sentences, word_to_index):\n",
    "    return [get_encoded_sentence(sentence, word_to_index) for sentence in sentences]"
   ]
  },
  {
   "cell_type": "code",
   "execution_count": 4,
   "metadata": {},
   "outputs": [
    {
     "name": "stdout",
     "output_type": "stream",
     "text": [
      "train_len = 150000, test_len = 50000\n",
      "data_len = 200000\n",
      "Deduplicated data_len = 194544\n",
      "Null-removed data_len = 193518\n",
      "145139 145139 48379 48379\n"
     ]
    }
   ],
   "source": [
    "x_train, y_train, x_test, y_test, word_to_index = load_data(train_data, test_data)\n",
    "print(len(x_train), len(y_train), len(y_test), len(y_test))"
   ]
  },
  {
   "cell_type": "code",
   "execution_count": 5,
   "metadata": {},
   "outputs": [
    {
     "name": "stdout",
     "output_type": "stream",
     "text": [
      "문장길이 평균 :  13.834015440424146\n",
      "문장길이 최대 :  83\n",
      "문장길이 표준편차 :  11.455997175188502\n",
      "maxlen :  36\n",
      "전체 샘플 중 길이가 36 이하인 샘플의 비율: 92.96137826972168\n"
     ]
    }
   ],
   "source": [
    "data = x_train + x_test\n",
    "num_tokens = [len(i) for i in data]\n",
    "num_tokens = np.array(num_tokens)\n",
    "max_len = int(np.mean(num_tokens) + 2 * np.std(num_tokens))\n",
    "print('문장길이 평균 : ', np.mean(num_tokens))\n",
    "print('문장길이 최대 : ', np.max(num_tokens))\n",
    "print('문장길이 표준편차 : ', np.std(num_tokens))\n",
    "print('maxlen : ', max_len)\n",
    "cnt = 0\n",
    "for i in data:\n",
    "    if len(i)<max_len:\n",
    "        cnt += 1\n",
    "print('전체 샘플 중 길이가 %s 이하인 샘플의 비율: %s'%(max_len, (cnt / len(data))*100))"
   ]
  },
  {
   "cell_type": "code",
   "execution_count": 6,
   "metadata": {},
   "outputs": [],
   "source": [
    "x_train = tf.keras.preprocessing.sequence.pad_sequences(x_train,\n",
    "                                                        padding='post', # 혹은 'pre'\n",
    "                                                        maxlen=max_len)\n",
    "\n",
    "x_test = tf.keras.preprocessing.sequence.pad_sequences(x_test,\n",
    "                                                       padding='post', # 혹은 'pre'\n",
    "                                                       maxlen=max_len)"
   ]
  },
  {
   "cell_type": "code",
   "execution_count": 7,
   "metadata": {},
   "outputs": [
    {
     "name": "stdout",
     "output_type": "stream",
     "text": [
      "Model: \"sequential\"\n",
      "_________________________________________________________________\n",
      "Layer (type)                 Output Shape              Param #   \n",
      "=================================================================\n",
      "embedding (Embedding)        (None, None, 16)          160000    \n",
      "_________________________________________________________________\n",
      "lstm (LSTM)                  (None, 8)                 800       \n",
      "_________________________________________________________________\n",
      "dense (Dense)                (None, 8)                 72        \n",
      "_________________________________________________________________\n",
      "dense_1 (Dense)              (None, 1)                 9         \n",
      "=================================================================\n",
      "Total params: 160,881\n",
      "Trainable params: 160,881\n",
      "Non-trainable params: 0\n",
      "_________________________________________________________________\n"
     ]
    }
   ],
   "source": [
    "vocab_size = 10000    # 어휘 사전의 크기입니다(10,000개의 단어)\n",
    "word_vector_dim = 16  # 워드 벡터의 차원 수 (변경 가능한 하이퍼파라미터)\n",
    "epochs = 15\n",
    "\n",
    "model = tf.keras.Sequential()\n",
    "model.add(tf.keras.layers.Embedding(vocab_size, word_vector_dim, input_shape=(None,)))\n",
    "model.add(tf.keras.layers.LSTM(8))   # 가장 널리 쓰이는 RNN인 LSTM 레이어를 사용하였습니다. 이때 LSTM state 벡터의 차원수는 8로 하였습니다. (변경 가능)\n",
    "model.add(tf.keras.layers.Dense(8, activation='relu'))\n",
    "model.add(tf.keras.layers.Dense(1, activation='sigmoid'))  # 최종 출력은 긍정/부정을 나타내는 1dim 입니다.\n",
    "model.summary()"
   ]
  },
  {
   "cell_type": "code",
   "execution_count": 8,
   "metadata": {},
   "outputs": [
    {
     "name": "stdout",
     "output_type": "stream",
     "text": [
      "Epoch 1/15\n",
      "2268/2268 [==============================] - 32s 6ms/step - loss: 0.4212 - acc: 0.8022 - val_loss: 0.3740 - val_acc: 0.8341\n",
      "Epoch 2/15\n",
      "2268/2268 [==============================] - 12s 5ms/step - loss: 0.3535 - acc: 0.8450 - val_loss: 0.3774 - val_acc: 0.8303\n",
      "Epoch 3/15\n",
      "2268/2268 [==============================] - 12s 5ms/step - loss: 0.3417 - acc: 0.8509 - val_loss: 0.3546 - val_acc: 0.8454\n",
      "Epoch 4/15\n",
      "2268/2268 [==============================] - 12s 5ms/step - loss: 0.3327 - acc: 0.8552 - val_loss: 0.3480 - val_acc: 0.8473\n",
      "Epoch 5/15\n",
      "2268/2268 [==============================] - 12s 5ms/step - loss: 0.3246 - acc: 0.8596 - val_loss: 0.3546 - val_acc: 0.8433\n",
      "Epoch 6/15\n",
      "2268/2268 [==============================] - 12s 5ms/step - loss: 0.3165 - acc: 0.8635 - val_loss: 0.3439 - val_acc: 0.8459\n",
      "Epoch 7/15\n",
      "2268/2268 [==============================] - 12s 5ms/step - loss: 0.3093 - acc: 0.8672 - val_loss: 0.3375 - val_acc: 0.8537\n",
      "Epoch 8/15\n",
      "2268/2268 [==============================] - 12s 5ms/step - loss: 0.3028 - acc: 0.8702 - val_loss: 0.3317 - val_acc: 0.8552\n",
      "Epoch 9/15\n",
      "2268/2268 [==============================] - 12s 5ms/step - loss: 0.2974 - acc: 0.8734 - val_loss: 0.3310 - val_acc: 0.8568\n",
      "Epoch 10/15\n",
      "2268/2268 [==============================] - 12s 5ms/step - loss: 0.2927 - acc: 0.8758 - val_loss: 0.3600 - val_acc: 0.8449\n",
      "Epoch 11/15\n",
      "2268/2268 [==============================] - 13s 6ms/step - loss: 0.2889 - acc: 0.8780 - val_loss: 0.3499 - val_acc: 0.8533\n",
      "Epoch 00011: early stopping\n"
     ]
    }
   ],
   "source": [
    "early_stopping =  EarlyStopping(monitor='val_loss', mode='min', verbose=1, patience=2)\n",
    "model.compile(optimizer='rmsprop', loss='binary_crossentropy', metrics=['acc'])\n",
    "history = model.fit(x_train,\n",
    "                    y_train,\n",
    "                    epochs=15,\n",
    "                    batch_size=64,\n",
    "                    validation_data=(x_test, y_test),\n",
    "                    verbose=1,\n",
    "                    callbacks=[early_stopping])"
   ]
  },
  {
   "cell_type": "code",
   "execution_count": 9,
   "metadata": {},
   "outputs": [
    {
     "name": "stdout",
     "output_type": "stream",
     "text": [
      "Model: \"sequential_1\"\n",
      "_________________________________________________________________\n",
      "Layer (type)                 Output Shape              Param #   \n",
      "=================================================================\n",
      "embedding_1 (Embedding)      (None, None, 16)          160000    \n",
      "_________________________________________________________________\n",
      "conv1d (Conv1D)              (None, None, 16)          784       \n",
      "_________________________________________________________________\n",
      "max_pooling1d (MaxPooling1D) (None, None, 16)          0         \n",
      "_________________________________________________________________\n",
      "conv1d_1 (Conv1D)            (None, None, 16)          1040      \n",
      "_________________________________________________________________\n",
      "global_max_pooling1d (Global (None, 16)                0         \n",
      "_________________________________________________________________\n",
      "dense_2 (Dense)              (None, 8)                 136       \n",
      "_________________________________________________________________\n",
      "dense_3 (Dense)              (None, 1)                 9         \n",
      "=================================================================\n",
      "Total params: 161,969\n",
      "Trainable params: 161,969\n",
      "Non-trainable params: 0\n",
      "_________________________________________________________________\n"
     ]
    }
   ],
   "source": [
    "model_1 = tf.keras.Sequential()\n",
    "model_1.add(tf.keras.layers.Embedding(vocab_size, word_vector_dim, input_shape=(None,)))\n",
    "model_1.add(tf.keras.layers.Conv1D(16, 3, activation='relu'))\n",
    "model_1.add(tf.keras.layers.MaxPooling1D(5))\n",
    "model_1.add(tf.keras.layers.Conv1D(16, 4, activation='relu'))\n",
    "model_1.add(tf.keras.layers.GlobalMaxPooling1D())\n",
    "model_1.add(tf.keras.layers.Dense(8, activation='relu'))\n",
    "model_1.add(tf.keras.layers.Dense(1, activation='sigmoid'))  # 최종 출력은 긍정/부정을 나타내는 1dim 입니다.\n",
    "\n",
    "model_1.summary()"
   ]
  },
  {
   "cell_type": "code",
   "execution_count": 10,
   "metadata": {},
   "outputs": [
    {
     "name": "stdout",
     "output_type": "stream",
     "text": [
      "Epoch 1/15\n",
      "2268/2268 [==============================] - 22s 5ms/step - loss: 0.4104 - acc: 0.8117 - val_loss: 0.3656 - val_acc: 0.8380\n",
      "Epoch 2/15\n",
      "2268/2268 [==============================] - 10s 5ms/step - loss: 0.3394 - acc: 0.8521 - val_loss: 0.3537 - val_acc: 0.8449\n",
      "Epoch 3/15\n",
      "2268/2268 [==============================] - 10s 5ms/step - loss: 0.3185 - acc: 0.8636 - val_loss: 0.3496 - val_acc: 0.8465\n",
      "Epoch 4/15\n",
      "2268/2268 [==============================] - 10s 5ms/step - loss: 0.3036 - acc: 0.8713 - val_loss: 0.3435 - val_acc: 0.8510\n",
      "Epoch 5/15\n",
      "2268/2268 [==============================] - 10s 5ms/step - loss: 0.2917 - acc: 0.8781 - val_loss: 0.3427 - val_acc: 0.8498\n",
      "Epoch 6/15\n",
      "2268/2268 [==============================] - 10s 5ms/step - loss: 0.2814 - acc: 0.8831 - val_loss: 0.3470 - val_acc: 0.8501\n",
      "Epoch 7/15\n",
      "2268/2268 [==============================] - 10s 5ms/step - loss: 0.2724 - acc: 0.8880 - val_loss: 0.3534 - val_acc: 0.8497\n",
      "Epoch 00007: early stopping\n"
     ]
    }
   ],
   "source": [
    "model_1.compile(optimizer='rmsprop', loss='binary_crossentropy', metrics=['acc'])\n",
    "history_1 = model_1.fit(x_train,\n",
    "                    y_train,\n",
    "                    epochs=15,\n",
    "                    batch_size=64,\n",
    "                    validation_data=(x_test, y_test),\n",
    "                    verbose=1,\n",
    "                    callbacks=[early_stopping])"
   ]
  },
  {
   "cell_type": "code",
   "execution_count": 11,
   "metadata": {},
   "outputs": [
    {
     "name": "stdout",
     "output_type": "stream",
     "text": [
      "Model: \"sequential_2\"\n",
      "_________________________________________________________________\n",
      "Layer (type)                 Output Shape              Param #   \n",
      "=================================================================\n",
      "embedding_2 (Embedding)      (None, None, 16)          160000    \n",
      "_________________________________________________________________\n",
      "dropout (Dropout)            (None, None, 16)          0         \n",
      "_________________________________________________________________\n",
      "bidirectional (Bidirectional (None, 128)               31488     \n",
      "_________________________________________________________________\n",
      "dropout_1 (Dropout)          (None, 128)               0         \n",
      "_________________________________________________________________\n",
      "dense_4 (Dense)              (None, 16)                2064      \n",
      "_________________________________________________________________\n",
      "dropout_2 (Dropout)          (None, 16)                0         \n",
      "_________________________________________________________________\n",
      "dense_5 (Dense)              (None, 1)                 17        \n",
      "=================================================================\n",
      "Total params: 193,569\n",
      "Trainable params: 193,569\n",
      "Non-trainable params: 0\n",
      "_________________________________________________________________\n"
     ]
    }
   ],
   "source": [
    "#https://github.com/ryuseonghan/TF2-Study/blob/master/naver_sentiment_movie_rnn.ipynb\n",
    "model_2 = tf.keras.Sequential()\n",
    "model_2.add(tf.keras.layers.Embedding(vocab_size, word_vector_dim, input_shape=(None,)))\n",
    "model_2.add(tf.keras.layers.Dropout(0.2))\n",
    "model_2.add(tf.keras.layers.Bidirectional(tf.keras.layers.GRU(64)))\n",
    "model_2.add(tf.keras.layers.Dropout(0.2))\n",
    "model_2.add(tf.keras.layers.Dense(16, activation='tanh'))\n",
    "model_2.add(tf.keras.layers.Dropout(0.2))\n",
    "model_2.add(tf.keras.layers.Dense(1, activation='sigmoid'))\n",
    "\n",
    "model_2.summary()"
   ]
  },
  {
   "cell_type": "code",
   "execution_count": 12,
   "metadata": {},
   "outputs": [
    {
     "name": "stdout",
     "output_type": "stream",
     "text": [
      "Epoch 1/15\n",
      "2268/2268 [==============================] - 21s 8ms/step - loss: 0.4071 - acc: 0.8133 - val_loss: 0.3602 - val_acc: 0.8420\n",
      "Epoch 2/15\n",
      "2268/2268 [==============================] - 18s 8ms/step - loss: 0.3496 - acc: 0.8487 - val_loss: 0.3546 - val_acc: 0.8451\n",
      "Epoch 3/15\n",
      "2268/2268 [==============================] - 18s 8ms/step - loss: 0.3396 - acc: 0.8541 - val_loss: 0.3541 - val_acc: 0.8470\n",
      "Epoch 4/15\n",
      "2268/2268 [==============================] - 18s 8ms/step - loss: 0.3303 - acc: 0.8591 - val_loss: 0.3378 - val_acc: 0.8531\n",
      "Epoch 5/15\n",
      "2268/2268 [==============================] - 18s 8ms/step - loss: 0.3214 - acc: 0.8628 - val_loss: 0.3347 - val_acc: 0.8547\n",
      "Epoch 6/15\n",
      "2268/2268 [==============================] - 18s 8ms/step - loss: 0.3154 - acc: 0.8663 - val_loss: 0.3311 - val_acc: 0.8559\n",
      "Epoch 7/15\n",
      "2268/2268 [==============================] - 18s 8ms/step - loss: 0.3109 - acc: 0.8694 - val_loss: 0.3277 - val_acc: 0.8585\n",
      "Epoch 8/15\n",
      "2268/2268 [==============================] - 18s 8ms/step - loss: 0.3066 - acc: 0.8714 - val_loss: 0.3298 - val_acc: 0.8578\n",
      "Epoch 9/15\n",
      "2268/2268 [==============================] - 18s 8ms/step - loss: 0.3039 - acc: 0.8733 - val_loss: 0.3327 - val_acc: 0.8563\n",
      "Epoch 00009: early stopping\n"
     ]
    }
   ],
   "source": [
    "model_2.compile(optimizer='rmsprop', loss='binary_crossentropy', metrics=['acc'])\n",
    "history_2 = model_2.fit(x_train,\n",
    "                    y_train,\n",
    "                    epochs=15,\n",
    "                    batch_size=64,\n",
    "                    validation_data=(x_test, y_test),\n",
    "                    verbose=1,\n",
    "                    callbacks=[early_stopping])"
   ]
  },
  {
   "cell_type": "code",
   "execution_count": 13,
   "metadata": {},
   "outputs": [
    {
     "data": {
      "image/png": "[encoded data removed]",
      "text/plain": [
       "<Figure size 432x288 with 1 Axes>"
      ]
     },
     "metadata": {
      "needs_background": "light"
     },
     "output_type": "display_data"
    }
   ],
   "source": [
    "import matplotlib.pyplot as plt\n",
    "plt.plot(history.history['val_acc'], label='LSTM_acc')\n",
    "plt.plot(history_1.history['val_acc'], label='Conv_acc')\n",
    "plt.plot(history_2.history['val_acc'], label='GRU_acc')\n",
    "plt.title('Model accuracy')\n",
    "plt.xlabel('Epoch')\n",
    "plt.ylabel('Accuracy')\n",
    "plt.legend()\n",
    "plt.show()\n"
   ]
  },
  {
   "cell_type": "code",
   "execution_count": 14,
   "metadata": {},
   "outputs": [
    {
     "data": {
      "image/png": "[encoded data removed]",
      "text/plain": [
       "<Figure size 432x288 with 1 Axes>"
      ]
     },
     "metadata": {
      "needs_background": "light"
     },
     "output_type": "display_data"
    }
   ],
   "source": [
    "plt.plot(history.history['val_loss'], label='LSTM_loss')\n",
    "plt.plot(history_1.history['val_loss'], label='Conv_loss')\n",
    "plt.plot(history_2.history['val_loss'], label='GRU_loss')\n",
    "plt.title('Model loss')\n",
    "plt.xlabel('Epoch')\n",
    "plt.ylabel('Accuracy')\n",
    "plt.legend()\n",
    "plt.show()\n"
   ]
  },
  {
   "cell_type": "code",
   "execution_count": 15,
   "metadata": {},
   "outputs": [
    {
     "name": "stdout",
     "output_type": "stream",
     "text": [
      "72924 72215\n"
     ]
    }
   ],
   "source": [
    "print((y_train==0).sum(), (y_train==1).sum())"
   ]
  },
  {
   "cell_type": "code",
   "execution_count": 16,
   "metadata": {},
   "outputs": [
    {
     "name": "stderr",
     "output_type": "stream",
     "text": [
      "/tmp/ipykernel_1454/871729008.py:5: DeprecationWarning: Call to deprecated `similar_by_word` (Method will be removed in 4.0.0, use self.wv.similar_by_word() instead).\n",
      "  word2vec_ko_model.similar_by_word(\"자동차\")\n"
     ]
    },
    {
     "data": {
      "text/plain": [
       "[('승용차', 0.729595422744751),\n",
       " ('스포츠카', 0.6468127965927124),\n",
       " ('오토바이', 0.6444642543792725),\n",
       " ('이륜차', 0.6432071328163147),\n",
       " ('자가용', 0.6401187777519226),\n",
       " ('경주용', 0.6348319053649902),\n",
       " ('미니밴', 0.6230480074882507),\n",
       " ('경차', 0.6184974908828735),\n",
       " ('현대자동차', 0.6122195720672607),\n",
       " ('자전거', 0.6117190718650818)]"
      ]
     },
     "execution_count": 16,
     "metadata": {},
     "output_type": "execute_result"
    }
   ],
   "source": [
    "#gensim==3.8.3\n",
    "import gensim\n",
    "word2vec_file_path = os.path.join(local_path, 'data', 'ko.bin')\n",
    "word2vec_ko_model = gensim.models.Word2Vec.load(word2vec_file_path)\n",
    "word2vec_ko_model.similar_by_word(\"자동차\")"
   ]
  },
  {
   "cell_type": "code",
   "execution_count": 17,
   "metadata": {},
   "outputs": [
    {
     "name": "stderr",
     "output_type": "stream",
     "text": [
      "/tmp/ipykernel_1454/3941648477.py:1: DeprecationWarning: Call to deprecated `__getitem__` (Method will be removed in 4.0.0, use self.wv.__getitem__() instead).\n",
      "  word2vec_ko_model['자동차']\n"
     ]
    },
    {
     "data": {
      "text/plain": [
       "array([-2.1799444e-01,  7.4607009e-01,  9.9072278e-01,  8.5899860e-01,\n",
       "       -9.7080368e-01, -5.5684823e-01,  1.7214289e+00, -6.7614257e-01,\n",
       "        2.7608496e-01, -1.8445407e+00,  9.2257899e-01, -1.0389674e+00,\n",
       "       -3.7929282e-01, -1.2692213e+00, -2.5065787e+00,  4.5063258e-03,\n",
       "       -5.2440840e-01, -1.2708049e-01, -2.6658008e+00, -1.2863132e+00,\n",
       "       -1.9656490e+00, -7.4687123e-01, -1.2433782e-01,  4.0630311e-01,\n",
       "       -7.1055388e-01, -2.4316990e+00,  4.4966701e-01,  2.1234727e+00,\n",
       "        1.9699278e+00,  8.5916567e-01,  2.7979857e-01,  5.9493303e-01,\n",
       "       -1.7888557e+00,  1.4845309e+00,  7.4385089e-04,  6.6847461e-01,\n",
       "       -1.4189643e+00, -1.5629472e+00,  7.7731383e-01, -8.6850345e-01,\n",
       "        1.3043642e+00, -1.7911224e+00, -7.2049809e-01,  2.3248043e+00,\n",
       "        5.5081940e-01,  3.3016291e-01,  7.5898960e-02, -7.4720092e-02,\n",
       "       -1.6600585e+00, -1.5270574e+00, -2.1942817e-01, -7.3349804e-02,\n",
       "       -1.9354802e+00,  5.7570595e-01, -2.6276556e-01, -2.3836954e+00,\n",
       "       -1.8632922e-01, -1.0586046e+00, -2.6215115e+00, -1.7000461e+00,\n",
       "       -1.4755234e-01,  5.4850394e-01, -1.6619197e+00, -7.4096292e-01,\n",
       "       -1.4647363e+00,  1.2548567e+00,  1.5671029e+00,  9.2276269e-01,\n",
       "        7.5976275e-02,  1.4907237e+00, -8.4343517e-01,  3.7406680e-01,\n",
       "       -5.1431966e-01, -1.3265934e+00,  2.7813828e-02,  8.1868643e-01,\n",
       "        5.9607189e-02, -4.5252025e-01, -4.8270738e-01, -7.6515400e-01,\n",
       "       -8.4178641e-02,  1.2308609e+00,  6.1719477e-01, -1.2088360e-01,\n",
       "       -2.5091896e+00, -5.8133382e-02,  1.7116953e+00,  2.1282087e-01,\n",
       "       -1.2528805e-01,  1.7283411e+00, -2.3276609e-01,  3.0187207e-01,\n",
       "        1.8663478e+00, -2.8337686e+00,  3.9867896e-01,  1.0479799e-01,\n",
       "        6.3291878e-01, -5.4855251e-01, -1.5384442e-01, -6.5589297e-01,\n",
       "        1.7371031e+00,  9.3133897e-03,  2.6033275e+00, -2.0020192e+00,\n",
       "        2.0203841e+00, -5.9113699e-01,  7.1286845e-01,  3.3458409e-01,\n",
       "        4.8819948e-02,  3.1232285e-01,  1.8396617e-01, -2.3179948e+00,\n",
       "       -2.9621678e-03, -8.9726812e-01, -5.4696560e-01,  6.9138384e-01,\n",
       "       -1.1299864e+00,  2.0313287e+00,  1.2153754e-01, -1.8211983e+00,\n",
       "       -5.8139499e-02,  8.4887958e-01,  7.5584710e-02,  5.7850502e-02,\n",
       "       -8.5341471e-01,  4.4426477e-01, -1.2550361e+00,  1.7220975e+00,\n",
       "       -3.5948643e-01,  8.2591254e-01,  1.1737332e+00,  7.8582346e-01,\n",
       "        1.2386476e+00, -1.6151932e+00, -9.5263791e-01, -1.4580164e+00,\n",
       "        1.0594753e+00, -1.2824528e+00,  1.5574604e+00, -8.8742143e-01,\n",
       "       -2.3036817e-01, -1.1756463e+00,  8.6991501e-01, -1.7187332e+00,\n",
       "       -7.5015438e-01,  2.7148214e-01, -5.8183891e-01, -2.9918846e-01,\n",
       "       -1.5482056e+00, -7.8979796e-01, -1.5518582e+00,  1.5873064e+00,\n",
       "       -2.0919845e+00, -4.4626048e-01, -8.1897303e-02,  6.9153750e-01,\n",
       "       -6.3942206e-01, -9.8091191e-01,  2.3439009e+00, -2.0054884e+00,\n",
       "       -1.6038381e+00, -3.7065620e+00,  8.2842654e-01, -1.7705867e+00,\n",
       "       -2.7123642e-01, -9.3929641e-02,  2.6168361e-01, -4.8624167e-01,\n",
       "       -7.6731287e-02,  9.0240145e-01,  9.4674557e-01, -7.0389205e-01,\n",
       "       -1.7857429e+00, -3.7140235e-02,  1.9244244e+00, -6.2912750e-01,\n",
       "       -1.0962329e+00,  1.2834780e+00,  3.9968118e-01,  1.4997663e+00,\n",
       "        6.8816823e-01,  1.4105060e+00, -2.6387250e+00, -1.2085316e+00,\n",
       "       -1.0226058e+00,  1.6836188e+00,  1.1905485e+00,  1.3953267e-02,\n",
       "        4.1652369e-01,  4.8461726e-01, -1.8783070e+00, -3.9908975e-02,\n",
       "       -2.4572840e+00,  1.2981883e+00, -5.6982979e-02, -2.2412521e-01,\n",
       "       -2.8163782e-01,  3.6472398e-01, -1.5956292e+00, -4.6176600e-01],\n",
       "      dtype=float32)"
      ]
     },
     "execution_count": 17,
     "metadata": {},
     "output_type": "execute_result"
    }
   ],
   "source": [
    "word2vec_ko_model['자동차']"
   ]
  },
  {
   "cell_type": "code",
   "execution_count": 18,
   "metadata": {},
   "outputs": [
    {
     "name": "stderr",
     "output_type": "stream",
     "text": [
      "  0%|          | 0/145139 [00:00<?, ?it/s]/tmp/ipykernel_1454/1429718414.py:7: DeprecationWarning: Call to deprecated `__contains__` (Method will be removed in 4.0.0, use self.wv.__contains__() instead).\n",
      "  if x_train[i][j] == 0 or index_to_word[x_train[i][j]] not in word2vec_ko_model:\n",
      "/tmp/ipykernel_1454/1429718414.py:9: DeprecationWarning: Call to deprecated `__getitem__` (Method will be removed in 4.0.0, use self.wv.__getitem__() instead).\n",
      "  x_train_[i][j] = word2vec_ko_model[index_to_word[x_train[i][j]]]\n",
      "100%|██████████| 145139/145139 [00:27<00:00, 5313.50it/s]\n",
      "  0%|          | 0/48379 [00:00<?, ?it/s]/tmp/ipykernel_1454/1429718414.py:12: DeprecationWarning: Call to deprecated `__contains__` (Method will be removed in 4.0.0, use self.wv.__contains__() instead).\n",
      "  if x_test[i][j] == 0 or index_to_word[x_test[i][j]] not in word2vec_ko_model:\n",
      "/tmp/ipykernel_1454/1429718414.py:14: DeprecationWarning: Call to deprecated `__getitem__` (Method will be removed in 4.0.0, use self.wv.__getitem__() instead).\n",
      "  x_test_[i][j] = word2vec_ko_model[index_to_word[x_test[i][j]]]\n",
      "100%|██████████| 48379/48379 [00:09<00:00, 5250.52it/s]\n"
     ]
    }
   ],
   "source": [
    "from tqdm import tqdm\n",
    "index_to_word = {index:word for word, index in word_to_index.items()}\n",
    "x_train_ = np.zeros(len(x_train)*max_len*200).reshape(-1, max_len,200)\n",
    "x_test_ = np.zeros(len(x_test)*max_len*200).reshape(-1, max_len,200)\n",
    "for i in tqdm(range(len(x_train))):\n",
    "    for j in range(len(x_train[i])):\n",
    "        if x_train[i][j] == 0 or index_to_word[x_train[i][j]] not in word2vec_ko_model:\n",
    "            continue\n",
    "        x_train_[i][j] = word2vec_ko_model[index_to_word[x_train[i][j]]]\n",
    "for i in tqdm(range(len(x_test))):\n",
    "    for j in range(len(x_test[i])):\n",
    "        if x_test[i][j] == 0 or index_to_word[x_test[i][j]] not in word2vec_ko_model:\n",
    "            continue\n",
    "        x_test_[i][j] = word2vec_ko_model[index_to_word[x_test[i][j]]]"
   ]
  },
  {
   "cell_type": "code",
   "execution_count": 19,
   "metadata": {},
   "outputs": [
    {
     "name": "stdout",
     "output_type": "stream",
     "text": [
      "Model: \"sequential_3\"\n",
      "_________________________________________________________________\n",
      "Layer (type)                 Output Shape              Param #   \n",
      "=================================================================\n",
      "embedding_3 (Embedding)      (None, None, 16)          160000    \n",
      "_________________________________________________________________\n",
      "dropout_3 (Dropout)          (None, None, 16)          0         \n",
      "_________________________________________________________________\n",
      "bidirectional_1 (Bidirection (None, 128)               31488     \n",
      "_________________________________________________________________\n",
      "dropout_4 (Dropout)          (None, 128)               0         \n",
      "_________________________________________________________________\n",
      "dense_6 (Dense)              (None, 16)                2064      \n",
      "_________________________________________________________________\n",
      "dropout_5 (Dropout)          (None, 16)                0         \n",
      "_________________________________________________________________\n",
      "dense_7 (Dense)              (None, 1)                 17        \n",
      "=================================================================\n",
      "Total params: 193,569\n",
      "Trainable params: 193,569\n",
      "Non-trainable params: 0\n",
      "_________________________________________________________________\n"
     ]
    }
   ],
   "source": [
    "model_2_ = tf.keras.Sequential()\n",
    "model_2_.add(tf.keras.layers.Embedding(vocab_size, word_vector_dim, input_shape=(None,)))\n",
    "model_2_.add(tf.keras.layers.Dropout(0.2))\n",
    "model_2_.add(tf.keras.layers.Bidirectional(tf.keras.layers.GRU(64)))\n",
    "model_2_.add(tf.keras.layers.Dropout(0.2))\n",
    "model_2_.add(tf.keras.layers.Dense(16, activation='tanh'))\n",
    "model_2_.add(tf.keras.layers.Dropout(0.2))\n",
    "model_2_.add(tf.keras.layers.Dense(1, activation='sigmoid'))\n",
    "\n",
    "model_2_.summary()"
   ]
  },
  {
   "cell_type": "code",
   "execution_count": null,
   "metadata": {},
   "outputs": [],
   "source": [
    "model_2_.compile(optimizer='rmsprop', loss='binary_crossentropy', metrics=['acc'])\n",
    "history_2_ = model_2_.fit(x_train_,\n",
    "                    y_train,\n",
    "                    epochs=15,\n",
    "                    batch_size=2000,\n",
    "                    validation_data=(x_test_, y_test),\n",
    "                    verbose=1,\n",
    "                    callbacks=[early_stopping])"
   ]
  },
  {
   "cell_type": "code",
   "execution_count": null,
   "metadata": {},
   "outputs": [],
   "source": [
    "plt.plot(history.history['val_acc'], label='LSTM_acc')\n",
    "plt.plot(history_1.history['val_acc'], label='Conv_acc')\n",
    "plt.plot(history_2.history['val_acc'], label='GRU_acc')\n",
    "plt.plot(history_2_.history['val_acc'], label='Word2Vec_GRU_acc')\n",
    "plt.title('Model accuracy')\n",
    "plt.xlabel('Epoch')\n",
    "plt.ylabel('Accuracy')\n",
    "plt.legend()\n",
    "plt.show()"
   ]
  },
  {
   "cell_type": "code",
   "execution_count": null,
   "metadata": {},
   "outputs": [],
   "source": [
    "plt.plot(history.history['val_loss'], label='LSTM_loss')\n",
    "plt.plot(history_1.history['val_loss'], label='Conv_loss')\n",
    "plt.plot(history_2.history['val_loss'], label='GRU_loss')\n",
    "plt.plot(history_2_.history['val_loss'], label='Word2Vec_GRU_loss')\n",
    "plt.title('Model loss')\n",
    "plt.xlabel('Epoch')\n",
    "plt.ylabel('Accuracy')\n",
    "plt.legend()\n",
    "plt.show()"
   ]
  },
  {
   "cell_type": "markdown",
   "metadata": {},
   "source": [
    "model_2_.compile(optimizer='rmsprop', loss='binary_crossentropy', metrics=['acc'])\n",
    "history_2_ = model_2_.fit(x_train,\n",
    "                    y_train,\n",
    "                    epochs=15,\n",
    "                    batch_size=64,\n",
    "                    validation_data=(x_test, y_test),\n",
    "                    verbose=1,\n",
    "                    callbacks=[early_stopping])"
   ]
  }
 ],
 "metadata": {
  "kernelspec": {
   "display_name": "Python 3 (ipykernel)",
   "language": "python",
   "name": "python3"
  },
  "language_info": {
   "codemirror_mode": {
    "name": "ipython",
    "version": 3
   },
   "file_extension": ".py",
   "mimetype": "text/x-python",
   "name": "python",
   "nbconvert_exporter": "python",
   "pygments_lexer": "ipython3",
   "version": "3.9.7"
  }
 },
 "nbformat": 4,
 "nbformat_minor": 4
}
